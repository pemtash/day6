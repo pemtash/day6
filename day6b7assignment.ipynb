{
 "cells": [
  {
   "cell_type": "markdown",
   "metadata": {},
   "source": [
    "# DAY 6 ASSIGNMENT 1"
   ]
  },
  {
   "cell_type": "raw",
   "metadata": {},
   "source": [
    "For this challenge, create a bank account class that has two attributes:\n",
    "*ownername\n",
    "*balance and\n",
    "methods\n",
    "*deposit\n",
    "*withdraw\n",
    "as an added requirement, withdrawals may not exceed the available balance.\n",
    "initiate your class, make several deposits and withdraals, and test to make sure the account cant be overdrawn"
   ]
  },
  {
   "cell_type": "code",
   "execution_count": 1,
   "metadata": {},
   "outputs": [
    {
     "name": "stdout",
     "output_type": "stream",
     "text": [
      "Welcome to ATM\n"
     ]
    },
    {
     "name": "stdin",
     "output_type": "stream",
     "text": [
      "enter amount to be deposited:  900\n"
     ]
    },
    {
     "name": "stdout",
     "output_type": "stream",
     "text": [
      "\n",
      " amount deposited:  900.0\n"
     ]
    },
    {
     "name": "stdin",
     "output_type": "stream",
     "text": [
      "enter amount to be withdraw:  500\n"
     ]
    },
    {
     "name": "stdout",
     "output_type": "stream",
     "text": [
      "\n",
      " you withdrew:  500.0\n",
      "\n",
      " Net available balance = 400.0\n"
     ]
    }
   ],
   "source": [
    "class BankAccount():\n",
    "    def __init__(self):\n",
    "        self.balance = 0\n",
    "        print(\"Welcome to ATM\")\n",
    "        \n",
    "    def deposit(self):\n",
    "        amount = float(input(\"enter amount to be deposited: \"))\n",
    "        self.balance += amount\n",
    "        print(\"\\n amount deposited: \", amount)\n",
    "        \n",
    "    def withdraw(self):\n",
    "        amount= float(input(\"enter amount to be withdraw: \",))\n",
    "        if self.balance >= amount:\n",
    "            self.balance-= amount\n",
    "            print(\"\\n you withdrew: \",amount)\n",
    "        else:\n",
    "            print(\"\\n insufficient balance\")\n",
    "            \n",
    "    def display(self):\n",
    "        print(\"\\n Net available balance =\",self.balance )\n",
    "b = BankAccount()\n",
    "b.deposit()\n",
    "b.withdraw()\n",
    "b.display()"
   ]
  },
  {
   "cell_type": "code",
   "execution_count": 2,
   "metadata": {},
   "outputs": [
    {
     "name": "stdin",
     "output_type": "stream",
     "text": [
      "enter amount to be withdraw:  500\n"
     ]
    },
    {
     "name": "stdout",
     "output_type": "stream",
     "text": [
      "\n",
      " insufficient balance\n"
     ]
    }
   ],
   "source": [
    "b.withdraw()"
   ]
  },
  {
   "cell_type": "code",
   "execution_count": 3,
   "metadata": {},
   "outputs": [
    {
     "name": "stdout",
     "output_type": "stream",
     "text": [
      "\n",
      " Net available balance = 400.0\n"
     ]
    }
   ],
   "source": [
    "b.display()"
   ]
  },
  {
   "cell_type": "code",
   "execution_count": null,
   "metadata": {},
   "outputs": [],
   "source": []
  },
  {
   "cell_type": "markdown",
   "metadata": {},
   "source": [
    "# DAY 6 ASSIGNMENT NO.2"
   ]
  },
  {
   "cell_type": "raw",
   "metadata": {},
   "source": [
    "For this challenege, create a cone class that has two attributes \n",
    "*R= radius\n",
    "*H= height\n",
    "and two methods \n",
    "*V= volume= pi*r**2*(h/3)\n",
    "*Surface area: base: pi*r**2,\n",
    "               side: pi*r*sqrt(r**2 + h**2)\n",
    "make only one class with functions as in where required import math"
   ]
  },
  {
   "cell_type": "code",
   "execution_count": 1,
   "metadata": {},
   "outputs": [],
   "source": [
    "import math\n",
    "pi = math.pi\n",
    "sqrt = math.sqrt"
   ]
  },
  {
   "cell_type": "code",
   "execution_count": 2,
   "metadata": {},
   "outputs": [
    {
     "name": "stdout",
     "output_type": "stream",
     "text": [
      "Volume Of Cone :  2094.3951023931954\n",
      "Surface Area Of Cone :  1016.640738463052\n"
     ]
    }
   ],
   "source": [
    "def volume(r, h): \n",
    "    return (1 / 3) * pi * r * r * h \n",
    "  \n",
    "def surfacearea(r, h): \n",
    "    return pi*r*sqrt(r*r+h*h)+pi*r*r\n",
    "\n",
    "radius = float(10) \n",
    "height = float(20) \n",
    "\n",
    "print( \"Volume Of Cone : \", volume(radius, height) ) \n",
    "print( \"Surface Area Of Cone : \", surfacearea(radius, height) )"
   ]
  },
  {
   "cell_type": "code",
   "execution_count": null,
   "metadata": {},
   "outputs": [],
   "source": []
  }
 ],
 "metadata": {
  "kernelspec": {
   "display_name": "Python 3",
   "language": "python",
   "name": "python3"
  },
  "language_info": {
   "codemirror_mode": {
    "name": "ipython",
    "version": 3
   },
   "file_extension": ".py",
   "mimetype": "text/x-python",
   "name": "python",
   "nbconvert_exporter": "python",
   "pygments_lexer": "ipython3",
   "version": "3.7.6"
  }
 },
 "nbformat": 4,
 "nbformat_minor": 4
}
